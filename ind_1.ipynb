{
 "cells": [
  {
   "cell_type": "markdown",
   "id": "d55eef7d",
   "metadata": {},
   "source": [
    "### Дана целочисленная квадратная матрица. Определить:\n",
    "1. Сумму элементов в тех столбцах, которые не содержат отрицательных элементов;\n",
    "2. Минимум среди сумм модулей элементов диагоналей, параллельных побочной диагонали\n",
    "матрицы."
   ]
  },
  {
   "cell_type": "code",
   "execution_count": 1,
   "id": "e27c07ad",
   "metadata": {},
   "outputs": [],
   "source": [
    "import numpy as np"
   ]
  },
  {
   "cell_type": "code",
   "execution_count": 2,
   "id": "24e8d2c1",
   "metadata": {
    "scrolled": true
   },
   "outputs": [
    {
     "name": "stdout",
     "output_type": "stream",
     "text": [
      "Введите размерность матрицы: 4\n"
     ]
    }
   ],
   "source": [
    "n=int(input(\"Введите размерность матрицы: \"))"
   ]
  },
  {
   "cell_type": "code",
   "execution_count": 3,
   "id": "95ec4194",
   "metadata": {},
   "outputs": [
    {
     "name": "stdout",
     "output_type": "stream",
     "text": [
      "[[-2  4  9 14]\n",
      " [11  6  9 11]\n",
      " [28 28 -4 -4]\n",
      " [ 3 27 15 16]]\n"
     ]
    }
   ],
   "source": [
    "a=np.random.randint(-5,30,(n,n))\n",
    "print(a)"
   ]
  },
  {
   "cell_type": "markdown",
   "id": "6fc3200d",
   "metadata": {},
   "source": [
    "#### Сумму элементов в тех столбцах, которые не содержат отрицательных элементов"
   ]
  },
  {
   "cell_type": "code",
   "execution_count": 4,
   "id": "cd6264a8",
   "metadata": {},
   "outputs": [
    {
     "name": "stdout",
     "output_type": "stream",
     "text": [
      "Сумма 2 столбца: 65\n"
     ]
    }
   ],
   "source": [
    "for col in range (n):\n",
    "    summ=0\n",
    "    for row in range(n):\n",
    "        if a[row][col]<0:\n",
    "            break\n",
    "        summ+=a[row][col]\n",
    "    else:\n",
    "        print(f\"Сумма {col+1} столбца: {summ}\")"
   ]
  },
  {
   "cell_type": "markdown",
   "id": "98c68d2a",
   "metadata": {},
   "source": [
    "#### Минимум среди сумм модулей элементов диагоналей, параллельных побочной диагонали матрицы."
   ]
  },
  {
   "cell_type": "code",
   "execution_count": 9,
   "id": "08ded5bc",
   "metadata": {},
   "outputs": [
    {
     "name": "stdout",
     "output_type": "stream",
     "text": [
      "[[ 2  4  9 14]\n",
      " [11  6  9 11]\n",
      " [28 28  4  4]\n",
      " [ 3 27 15 16]]\n",
      "15\n"
     ]
    }
   ],
   "source": [
    "a=np.absolute(a)\n",
    "print(a)\n",
    "print(min([a[i+1][i]+a[i][i+1] for i in range (n-1)]))"
   ]
  }
 ],
 "metadata": {
  "kernelspec": {
   "display_name": "Python 3 (ipykernel)",
   "language": "python",
   "name": "python3"
  },
  "language_info": {
   "codemirror_mode": {
    "name": "ipython",
    "version": 3
   },
   "file_extension": ".py",
   "mimetype": "text/x-python",
   "name": "python",
   "nbconvert_exporter": "python",
   "pygments_lexer": "ipython3",
   "version": "3.9.13"
  }
 },
 "nbformat": 4,
 "nbformat_minor": 5
}
