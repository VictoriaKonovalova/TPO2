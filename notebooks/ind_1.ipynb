{
 "cells": [
  {
   "cell_type": "markdown",
   "id": "d55eef7d",
   "metadata": {},
   "source": [
    "### Дана целочисленная квадратная матрица. Определить:\n",
    "1. Сумму элементов в тех столбцах, которые не содержат отрицательных элементов;\n",
    "2. Минимум среди сумм модулей элементов диагоналей, параллельных побочной диагонали\n",
    "матрицы."
   ]
  },
  {
   "cell_type": "code",
   "execution_count": 1,
   "id": "e27c07ad",
   "metadata": {},
   "outputs": [],
   "source": [
    "import numpy as np"
   ]
  },
  {
   "cell_type": "code",
   "execution_count": 2,
   "id": "24e8d2c1",
   "metadata": {
    "scrolled": true
   },
   "outputs": [
    {
     "name": "stdout",
     "output_type": "stream",
     "text": [
      "Введите размерность матрицы: 4\n"
     ]
    }
   ],
   "source": [
    "n=int(input(\"Введите размерность матрицы: \"))"
   ]
  },
  {
   "cell_type": "code",
   "execution_count": 10,
   "id": "95ec4194",
   "metadata": {},
   "outputs": [
    {
     "name": "stdout",
     "output_type": "stream",
     "text": [
      "[[-5 23 26 24]\n",
      " [24 15  3 14]\n",
      " [17  1  3 27]\n",
      " [20 -5  5 22]]\n"
     ]
    }
   ],
   "source": [
    "a=np.random.randint(-5,30,(n,n))\n",
    "print(a)"
   ]
  },
  {
   "cell_type": "markdown",
   "id": "6fc3200d",
   "metadata": {},
   "source": [
    "#### Сумму элементов в тех столбцах, которые не содержат отрицательных элементов"
   ]
  },
  {
   "cell_type": "code",
   "execution_count": 11,
   "id": "cd6264a8",
   "metadata": {},
   "outputs": [
    {
     "name": "stdout",
     "output_type": "stream",
     "text": [
      "[[26 24]\n",
      " [ 3 14]\n",
      " [ 3 27]\n",
      " [ 5 22]]\n"
     ]
    }
   ],
   "source": [
    "print(a[:, a.min(axis=0) > 0])\n"
   ]
  },
  {
   "cell_type": "code",
   "execution_count": 12,
   "id": "7580d0fb",
   "metadata": {},
   "outputs": [
    {
     "name": "stdout",
     "output_type": "stream",
     "text": [
      "124\n"
     ]
    }
   ],
   "source": [
    "summ = np.sum(a[:, a.min(axis=0) > 0])\n",
    "print(summ)"
   ]
  },
  {
   "cell_type": "markdown",
   "id": "98c68d2a",
   "metadata": {},
   "source": [
    "#### Минимум среди сумм модулей элементов диагоналей, параллельных побочной диагонали матрицы."
   ]
  },
  {
   "cell_type": "markdown",
   "id": "0b33682c",
   "metadata": {},
   "source": [
    "Для начала с помощью функции absolute() применяем к матрице модуль"
   ]
  },
  {
   "cell_type": "code",
   "execution_count": 17,
   "id": "08ded5bc",
   "metadata": {},
   "outputs": [
    {
     "name": "stdout",
     "output_type": "stream",
     "text": [
      "[[ 5 23 26 24]\n",
      " [24 15  3 14]\n",
      " [17  1  3 27]\n",
      " [20  5  5 22]]\n"
     ]
    }
   ],
   "source": [
    "b=np.absolute(a)\n",
    "print(b)"
   ]
  },
  {
   "cell_type": "markdown",
   "id": "989bb30b",
   "metadata": {},
   "source": [
    "Фунеция trace() позволяем получить сумму по главной диагонали со смещением offset"
   ]
  },
  {
   "cell_type": "code",
   "execution_count": 24,
   "id": "618f9932",
   "metadata": {},
   "outputs": [
    {
     "name": "stdout",
     "output_type": "stream",
     "text": [
      "53\n",
      "30\n"
     ]
    }
   ],
   "source": [
    "print(b.trace(offset=1))\n",
    "print(b.trace(offset=-1))"
   ]
  },
  {
   "cell_type": "markdown",
   "id": "24f14ba9",
   "metadata": {},
   "source": [
    "Чтобы получить побочную диагональ нужно будет перевернуть матрицу с помощью функциии fliplr()"
   ]
  },
  {
   "cell_type": "code",
   "execution_count": 19,
   "id": "09f80189",
   "metadata": {
    "scrolled": true
   },
   "outputs": [
    {
     "name": "stdout",
     "output_type": "stream",
     "text": [
      "[[24 26 23  5]\n",
      " [14  3 15 24]\n",
      " [27  3  1 17]\n",
      " [22  5  5 20]]\n"
     ]
    }
   ],
   "source": [
    "print(np.fliplr(b))"
   ]
  },
  {
   "cell_type": "markdown",
   "id": "57cb464b",
   "metadata": {},
   "source": [
    "В списковом включении используем упомянутые выше функции "
   ]
  },
  {
   "cell_type": "code",
   "execution_count": 25,
   "id": "1505c3b4",
   "metadata": {},
   "outputs": [
    {
     "data": {
      "text/plain": [
       "22"
      ]
     },
     "execution_count": 25,
     "metadata": {},
     "output_type": "execute_result"
    }
   ],
   "source": [
    "minn=min([np.flip(b).trace(offset=i) for i in range(-(n-2),n-1)])\n",
    "minn"
   ]
  }
 ],
 "metadata": {
  "kernelspec": {
   "display_name": "Python 3 (ipykernel)",
   "language": "python",
   "name": "python3"
  },
  "language_info": {
   "codemirror_mode": {
    "name": "ipython",
    "version": 3
   },
   "file_extension": ".py",
   "mimetype": "text/x-python",
   "name": "python",
   "nbconvert_exporter": "python",
   "pygments_lexer": "ipython3",
   "version": "3.9.13"
  }
 },
 "nbformat": 4,
 "nbformat_minor": 5
}
