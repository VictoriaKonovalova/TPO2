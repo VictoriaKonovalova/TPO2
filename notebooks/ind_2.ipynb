{
 "cells": [
  {
   "attachments": {},
   "cell_type": "markdown",
   "id": "27e6a59b",
   "metadata": {},
   "source": [
    "# Высчитать среднеквадратическую ошибку\n",
    "\n",
    "$$MSE=\\frac{1}{n}\\sum_{i=1}^{n}(y_{true}-y_{pred})^{2}$$\n",
    "#### n   - число рассматриваемых объектов, которое в нащем случае равно 100.\n",
    "\n",
    "#### y   - переменные, которые будут предсказаны. В нашем случае это пол человека\n",
    "\n",
    "#### ytrue   - истинное значение переменной, то есть так называемый правильный ответ. \n",
    "\n",
    "#### ypred = gender   - предполагаемое значение переменной. Это результат вывода сети."
   ]
  },
  {
   "cell_type": "code",
   "execution_count": 1,
   "id": "27991004",
   "metadata": {},
   "outputs": [],
   "source": [
    "import numpy as np"
   ]
  },
  {
   "cell_type": "markdown",
   "id": "b26d116a",
   "metadata": {},
   "source": [
    "### y_true и gender являются массивами numpy с одинаковой длиной\n",
    "### mean() возвращает среднее значение набора данных"
   ]
  },
  {
   "cell_type": "code",
   "execution_count": 2,
   "id": "d7da4050",
   "metadata": {},
   "outputs": [
    {
     "name": "stdout",
     "output_type": "stream",
     "text": [
      "0.53\n"
     ]
    }
   ],
   "source": [
    "def mse_loss(y_true, gender):\n",
    "    return ((y_true - gender) ** 2).mean()\n",
    "\n",
    "y_true=np.random.randint(0,2,100)\n",
    "gender=np.random.randint(0,2,100)\n",
    "\n",
    "print(mse_loss(y_true, gender))"
   ]
  }
 ],
 "metadata": {
  "kernelspec": {
   "display_name": "Python 3 (ipykernel)",
   "language": "python",
   "name": "python3"
  },
  "language_info": {
   "codemirror_mode": {
    "name": "ipython",
    "version": 3
   },
   "file_extension": ".py",
   "mimetype": "text/x-python",
   "name": "python",
   "nbconvert_exporter": "python",
   "pygments_lexer": "ipython3",
   "version": "3.9.13"
  }
 },
 "nbformat": 4,
 "nbformat_minor": 5
}
